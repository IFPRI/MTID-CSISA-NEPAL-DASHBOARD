{
 "cells": [
  {
   "cell_type": "code",
   "execution_count": null,
   "metadata": {
    "colab": {
     "base_uri": "https://localhost:8080/",
     "height": 73
    },
    "id": "96UgmzeEjCPq",
    "outputId": "27d975cb-ff3f-413e-eeb0-bfb61522af62",
    "tags": []
   },
   "outputs": [
    {
     "name": "stdout",
     "output_type": "stream",
     "text": [
      "Collecting mysql-connector-python\n",
      "  Using cached mysql_connector_python-8.4.0-cp310-cp310-manylinux_2_17_x86_64.whl.metadata (2.0 kB)\n",
      "Using cached mysql_connector_python-8.4.0-cp310-cp310-manylinux_2_17_x86_64.whl (19.4 MB)\n"
     ]
    }
   ],
   "source": [
    "!pip install mysql-connector-python\n",
    "!pip install pandas mysql-connector-python\n",
    "!pip install hdx-python-api\n",
    "\n"
   ]
  },
  {
   "cell_type": "code",
   "execution_count": 31,
   "metadata": {
    "tags": []
   },
   "outputs": [],
   "source": [
    "import pandas as pd\n",
    "from sqlalchemy import create_engine, text \n",
    "from sqlalchemy.engine import reflection\n",
    "from sqlalchemy.exc import ProgrammingError\n",
    "from sqlalchemy import inspect\n",
    "from sqlalchemy.orm import sessionmaker\n",
    "# Replace these values with your actual database information\n",
    "config = {\n",
    "    'user': 'soonho',\n",
    "    'password': 'Yh2Wgfy2W4wYjvW36TTThzfDB',\n",
    "    'host': 'fsp-raw-production.c5nzpjrxfrcj.us-east-1.rds.amazonaws.com',\n",
    "    'database': 'fsp_data',\n",
    "    'raise_on_warnings': True\n",
    "    }\n",
    "\n",
    " # Create an SQLAlchemy engine for pandas to use\n",
    "engine = create_engine(f'mysql+mysqlconnector://{config[\"user\"]}:{config[\"password\"]}@{config[\"host\"]}/{config[\"database\"]}')\n",
    "Session = sessionmaker(bind=engine)\n",
    "session = Session()\n",
    "\n",
    "\n",
    "def truncate_existing_tables(tables):\n",
    "    try:\n",
    "        for table in tables:\n",
    "            # Construct the TRUNCATE TABLE SQL query\n",
    "            truncate_query = text(f\"TRUNCATE TABLE {table}\")\n",
    "            \n",
    "            try:\n",
    "                # Execute the TRUNCATE TABLE query\n",
    "                session.execute(truncate_query)\n",
    "                session.commit()\n",
    "                print(f\"Table {table} truncated successfully.\")\n",
    "            except Exception as error:\n",
    "                session.rollback()\n",
    "                print(f\"Error truncating table {table}: {error}\")\n",
    "    except Exception as error:\n",
    "        print(f\"Error connecting to the database: {error}\")\n",
    "\n",
    "def insert_Dataframe_To_DB(df, table_name):\n",
    "    if not isinstance(df, pd.DataFrame):\n",
    "        return False\n",
    "    \n",
    "    if not isinstance(table_name,str ):\n",
    "        raise ValueError(\"table_name must be a string\")   \n",
    "        return False    \n",
    "\n",
    "\n",
    "     # Create an SQLAlchemy engine for pandas to use\n",
    "    #engine = create_engine(f'mysql+mysqlconnector://{config[\"user\"]}:{config[\"password\"]}@{config[\"host\"]}/{config[\"database\"]}')\n",
    "    \n",
    "    # Insert the DataFrame into MySQL, replacing the table if it exists\n",
    "    df.to_sql(name=table_name, con=engine, if_exists='replace', index=False)\n",
    "    \n",
    "\n",
    "    print(f'Data successfully inserted into {table_name}.')\n"
   ]
  },
  {
   "cell_type": "code",
   "execution_count": 32,
   "metadata": {
    "tags": []
   },
   "outputs": [
    {
     "name": "stdout",
     "output_type": "stream",
     "text": [
      "https://data.humdata.org/dataset/0e8b1b84-8e55-4aec-bc45-0c7d2c92d32e/resource/10bae3d7-82bf-4caf-a216-5fb4a8ff6e43/download/wfp_food_prices_npl.csv\n",
      "         date          admin1      admin2            market    latitude  \\\n",
      "0       #date      #adm1+name  #adm2+name  #loc+market+name    #geo+lat   \n",
      "1  2001-04-15  Province No. 1    DHANKUTA          Dhankuta  26.9833333   \n",
      "2  2001-04-15  Province No. 1        ILAM              Ilam     26.9103   \n",
      "3  2001-04-15  Province No. 1       JHAPA             Jhapa   26.483333   \n",
      "4  2001-04-15  Province No. 2    DHANUSHA          Dhanusha     26.7362   \n",
      "\n",
      "    longitude            category      commodity        unit  \\\n",
      "0    #geo+lon          #item+type     #item+name  #item+unit   \n",
      "1  87.3333333  cereals and tubers    Wheat flour          KG   \n",
      "2     87.9375  cereals and tubers  Rice (coarse)          KG   \n",
      "3       87.85  cereals and tubers    Wheat flour          KG   \n",
      "4     85.9292  cereals and tubers  Rice (coarse)          KG   \n",
      "\n",
      "          priceflag         pricetype   currency   price    usdprice  \n",
      "0  #item+price+flag  #item+price+type  #currency  #value  #value+usd  \n",
      "1            actual            Retail        NPR    19.0      0.2559  \n",
      "2            actual            Retail        NPR    13.5      0.1818  \n",
      "3            actual            Retail        NPR    14.0      0.1886  \n",
      "4            actual            Retail        NPR    12.0      0.1616  \n",
      "Table WFP_PRICE_DATA truncated successfully.\n",
      "Table WFP_PRICE_DATA_PROCESSED truncated successfully.\n",
      "Error truncating table WFP_PRICE_DATA_PROCESSED_MISSING REAL_REFERENCE: (mysql.connector.errors.ProgrammingError) 1064 (42000): You have an error in your SQL syntax; check the manual that corresponds to your MySQL server version for the right syntax to use near 'REAL_REFERENCE' at line 1\n",
      "[SQL: TRUNCATE TABLE WFP_PRICE_DATA_PROCESSED_MISSING REAL_REFERENCE]\n",
      "(Background on this error at: https://sqlalche.me/e/20/f405)\n",
      "Table WFP_PRICE_DATA_PROCESSED_REAL_REFERENCE truncated successfully.\n",
      "Data successfully inserted into WFP_PRICE_DATA.\n"
     ]
    }
   ],
   "source": [
    "# get the WFP data from HDX\n",
    "\n",
    "from hdx.api.configuration import Configuration\n",
    "from hdx.data.dataset import Dataset\n",
    "import requests\n",
    "import pandas as pd\n",
    "from io import StringIO\n",
    "\n",
    "\n",
    "if not Configuration._configuration:\n",
    "    Configuration.create(hdx_site=\"prod\", user_agent=\"Food Security Portal project\", hdx_read_only=True)\n",
    "        # Search for datasets\n",
    "dataset = Dataset.read_from_hdx(\"wfp-food-prices-for-nepal\")\n",
    "resources = dataset.get_resources()\n",
    "#print(resources)\n",
    "\n",
    "csv_resource = next(resource for resource in resources if resource['format'] == 'CSV')\n",
    "download_url = csv_resource['download_url']\n",
    "print(download_url)\n",
    "\n",
    "# Download the CSV file\n",
    "csv_data = pd.read_csv(download_url)\n",
    "\n",
    "# Print the first few rows of the CSV data\n",
    "print(csv_data.head())\n",
    "\n",
    "# REMOVE THE FIRST ROW, SINCE THERE IS UNNECESSARY INFORMATION\n",
    "\n",
    "csv_data = csv_data.iloc[1:]\n",
    "\n",
    "# ADD ISO3CODE SINCE THERE IS NO COUNTRYCODE ITSELF FROM THE CSV FILE\n",
    "\n",
    "csv_data['ISO3Code'] = 'NPL'\n",
    "df = pd.DataFrame();\n",
    "df = csv_data\n",
    "\n",
    "\n",
    "# truncate the exisiting tables \n",
    "tables = ['WFP_PRICE_DATA','WFP_PRICE_DATA_PROCESSED', 'WFP_PRICE_DATA_PROCESSED_MISSING REAL_REFERENCE', 'WFP_PRICE_DATA_PROCESSED_REAL_REFERENCE']\n",
    "\n",
    "truncate_existing_tables(tables) \n",
    "\n",
    "insert_Dataframe_To_DB(df, 'WFP_PRICE_DATA')\n"
   ]
  },
  {
   "cell_type": "markdown",
   "metadata": {
    "id": "AEhbnU_LZwW3",
    "tags": []
   },
   "source": [
    "## Deleting datapoint where the price is 0"
   ]
  },
  {
   "cell_type": "code",
   "execution_count": 33,
   "metadata": {
    "colab": {
     "base_uri": "https://localhost:8080/"
    },
    "id": "dFw_tbSXaDku",
    "outputId": "b15385a8-fd20-4fd1-c3c9-220d8eaf05d7",
    "tags": []
   },
   "outputs": [
    {
     "name": "stdout",
     "output_type": "stream",
     "text": [
      "Number of rows: 25253\n",
      "object\n",
      "Number of rows: 25253\n"
     ]
    }
   ],
   "source": [
    "print(\"Number of rows:\", df.shape[0])\n",
    "print(df['price'].dtype)\n",
    "\n",
    "df = df[(df['price'] != 0.0) & (df['priceflag'] == \"actual\")]\n",
    "print(\"Number of rows:\", df.shape[0])\n"
   ]
  },
  {
   "cell_type": "markdown",
   "metadata": {
    "id": "2G3wHX6yvdxt"
   },
   "source": [
    "## Calculating the annual percentage change for seasonality"
   ]
  },
  {
   "cell_type": "code",
   "execution_count": 34,
   "metadata": {
    "colab": {
     "base_uri": "https://localhost:8080/",
     "height": 124
    },
    "id": "I2TmwtIvkH9h",
    "outputId": "6637e24c-acbd-4f6a-b3d8-0357d35087c5",
    "tags": []
   },
   "outputs": [
    {
     "name": "stdout",
     "output_type": "stream",
     "text": [
      "Data successfully inserted into WFP_PRICE_DATA_PROCESSED.\n"
     ]
    }
   ],
   "source": [
    "percentage_change_df = pd.DataFrame()\n",
    "percentage_change_df = df\n",
    "# Convert 'date' to datetime format if it's not already\n",
    "percentage_change_df['date'] = pd.to_datetime(percentage_change_df['date'])\n",
    "\n",
    "# Extract the year from the 'date' column and create a new column called 'year'\n",
    "percentage_change_df['year'] = percentage_change_df['date'].dt.year\n",
    "# create a column \"month\" to match with CPI data\n",
    "percentage_change_df['month'] = percentage_change_df['date'].dt.month\n",
    "\n",
    "#print(df.columns)\n",
    "#print(df['price'].dtype)\n",
    "\n",
    "# Convert 'price' to numeric value format if it's not already\n",
    "percentage_change_df['price'] = pd.to_numeric(percentage_change_df['price'], errors='coerce')\n",
    "# Group by year, commodity, and market to calculate the mean price\n",
    "\n",
    "annual_prices = df.groupby(['year', 'commodity', 'market']).agg({'price': 'mean'}).reset_index()\n",
    "\n",
    "# Rename the price column in annual_prices to something like 'annual_avg_price'\n",
    "annual_prices.rename(columns={'price': 'annual_avg_price'}, inplace=True)\n",
    "\n",
    "# Merge the annual_prices DataFrame back into the main df\n",
    "percentage_change_df = pd.merge(percentage_change_df, annual_prices, how='left', on=['year', 'commodity', 'market'], suffixes=('', '_to_drop'))\n",
    "percentage_change_df = percentage_change_df.drop(columns=[col for col in df.columns if col.endswith('_to_drop')])\n",
    "percentage_change_df['percentage_change'] = ((percentage_change_df['price'] - percentage_change_df['annual_avg_price']) / percentage_change_df['annual_avg_price']) * 100\n",
    "# Calculate the percentage change between the actual price and the annual average price\n",
    "insert_Dataframe_To_DB(percentage_change_df, 'WFP_PRICE_DATA_PROCESSED')"
   ]
  },
  {
   "cell_type": "markdown",
   "metadata": {
    "id": "PHdkzJi6vWMO"
   },
   "source": [
    "## Calculating the real price, nominal index and real index for food prices tab"
   ]
  },
  {
   "cell_type": "code",
   "execution_count": 35,
   "metadata": {
    "colab": {
     "base_uri": "https://localhost:8080/",
     "height": 73
    },
    "id": "e95yvx-Vrai-",
    "outputId": "4d81dc92-fd7d-4a4e-c3bd-928426d981ae",
    "tags": []
   },
   "outputs": [
    {
     "name": "stdout",
     "output_type": "stream",
     "text": [
      "SELECT value, CPI_month, CPI_year FROM NEPAL_DASHBOARD_CPI\n",
      "Index(['value', 'CPI_month', 'CPI_year'], dtype='object')\n"
     ]
    }
   ],
   "source": [
    "#Import the CPI data to the data frame and merge CPI data to the main dataframe\n",
    "cpi_df = pd.DataFrame()\n",
    "with engine.connect() as connection:\n",
    "    query = text('''SELECT value, CPI_month, CPI_year FROM NEPAL_DASHBOARD_CPI''')\n",
    "    result = connection.execute(query)\n",
    "    print(query)  \n",
    "    \n",
    "    # Convert the result to a DataFrame\n",
    "    cpi_df = pd.DataFrame(result.fetchall(), columns=result.keys())\n",
    "\n",
    "# Print the DataFrame\n",
    "print(cpi_df.columns)\n",
    "\n"
   ]
  },
  {
   "cell_type": "code",
   "execution_count": 36,
   "metadata": {
    "colab": {
     "base_uri": "https://localhost:8080/",
     "height": 17
    },
    "id": "ODL0Ktb3tguw",
    "outputId": "444491ea-a5f0-46a5-97ed-d557d2c3f659",
    "tags": []
   },
   "outputs": [
    {
     "name": "stdout",
     "output_type": "stream",
     "text": [
      "Data successfully inserted into WFP_PRICE_DATA_PROCESSED.\n"
     ]
    }
   ],
   "source": [
    "percentage_change_CPI_df = pd.merge(percentage_change_df, cpi_df, left_on=['year', 'month'], right_on=['CPI_year', 'CPI_month'], how='left', suffixes=('', '_to_drop'))\n",
    "percentage_change_CPI_df = percentage_change_CPI_df.drop(columns=[col for col in df.columns if col.endswith('_to_drop')])\n",
    "\n",
    "#change the column name of 'value' to CPI\n",
    "percentage_change_CPI_df = percentage_change_CPI_df.rename(columns={'value':'CPI'})\n",
    "insert_Dataframe_To_DB(percentage_change_CPI_df, 'WFP_PRICE_DATA_PROCESSED')"
   ]
  },
  {
   "cell_type": "markdown",
   "metadata": {
    "id": "vekkTsJKvT6T"
   },
   "source": [
    "## calculate the real price and nominal index and real index"
   ]
  },
  {
   "cell_type": "code",
   "execution_count": 37,
   "metadata": {
    "colab": {
     "base_uri": "https://localhost:8080/",
     "height": 17
    },
    "id": "czKB_isjvH_J",
    "outputId": "1e07396b-4565-4e38-f48a-549896a2c072",
    "tags": []
   },
   "outputs": [
    {
     "name": "stdout",
     "output_type": "stream",
     "text": [
      "Data successfully inserted into WFP_PRICE_DATA_PROCESSED.\n"
     ]
    }
   ],
   "source": [
    "#calculate the real price and nominal index and real index\n",
    "# real price = nominal (price/CPI)*100\n",
    "percentage_change_CPI_real_df = pd.DataFrame()\n",
    "percentage_change_CPI_real_df = percentage_change_CPI_df\n",
    "\n",
    "if pd.api.types.is_numeric_dtype(percentage_change_CPI_real_df[\"CPI\"]):\n",
    "    percentage_change_CPI_real_df[\"real_price\"] = (percentage_change_CPI_real_df[\"price\"]/percentage_change_CPI_real_df[\"CPI\"])*100\n",
    "\n",
    "insert_Dataframe_To_DB(percentage_change_CPI_real_df, 'WFP_PRICE_DATA_PROCESSED')\n",
    "\n"
   ]
  },
  {
   "cell_type": "code",
   "execution_count": 50,
   "metadata": {
    "id": "6_OFcdP9RGny",
    "tags": []
   },
   "outputs": [
    {
     "name": "stderr",
     "output_type": "stream",
     "text": [
      "/tmp/ipykernel_104/2402028871.py:9: UserWarning: Boolean Series key will be reindexed to match DataFrame index.\n",
      "  missing_real_prices_2020_after = missing_real_prices[percentage_change_CPI_real_df['year'] >= 2020]\n"
     ]
    },
    {
     "name": "stdout",
     "output_type": "stream",
     "text": [
      "Data successfully inserted into WFP_PRICE_DATA_PROCESSED_MISSING REAL_REFERENCE.\n",
      "Data successfully inserted into WFP_PRICE_DATA_PROCESSED_REAL_REFERENCE1.\n",
      "Data successfully inserted into WFP_PRICE_DATA_PROCESSED_REAL_REFERENCE2.\n"
     ]
    },
    {
     "data": {
      "text/plain": [
       "\"\\n# Calculate the index based on the real_price_reference for each group, only if nominal_price_reference is not NaN\\ndf_real_price_reference['real_price_index'] = np.where(\\n    df_real_price_reference['real_price_reference'].notna(),\\n    (df_real_price_reference['real_price'] / df_real_price_reference['real_price_reference']) * 100,\\n    np.nan\\n)\\n\""
      ]
     },
     "execution_count": 50,
     "metadata": {},
     "output_type": "execute_result"
    }
   ],
   "source": [
    "\n",
    "\n",
    "# Group by 'commodity' and 'market', then get the 'real_price' for January 2020 --> there are missing values\n",
    "# so, it would be good to get the average between Jan, Feb, and March\n",
    "# even though, there is no real price, then get the first real price from the series.\n",
    "# Group by 'commodity' and 'market', then get the average 'real_price' for January, February, and March of 2020\n",
    "jan_feb_mar_2020_real_prices = pd.DataFrame()\n",
    "\n",
    "jan_feb_mar_2020_real_prices = percentage_change_CPI_real_df[(percentage_change_CPI_real_df['year'] == 2020) & (percentage_change_CPI_real_df['month'].isin([1, 2, 3]))]\n",
    "missing_real_prices =  percentage_change_CPI_real_df[~((percentage_change_CPI_real_df['year'] == 2020) & (percentage_change_CPI_real_df['month'].isin([1, 2, 3])))]\n",
    "missing_real_prices_2020_after = missing_real_prices[percentage_change_CPI_real_df['year'] >= 2020]\n",
    "# get the latest datapoint after grouping by groupby(['admin1', 'admin2','market', 'commodity' ])\n",
    "missing_real_prices_2020_after_sort = missing_real_prices_2020_after.sort_values(['admin1', 'admin2','market', 'commodity' ], ascending=[True, True, True, True])\n",
    "missing_real_prices_2020_after_sort.reset_index(drop=True)\n",
    "\n",
    "# Get the earliest values for each series\n",
    "earliest_real_values = missing_real_prices_2020_after_sort.groupby(['admin1', 'admin2','market', 'commodity' ], as_index=False).first()\n",
    "earliest_real_values.rename(columns={'real_price': 'real_price_reference'}, inplace=True)\n",
    "\n",
    "insert_Dataframe_To_DB(earliest_real_values, 'WFP_PRICE_DATA_PROCESSED_MISSING REAL_REFERENCE')\n",
    "\n",
    "# Calculate the average 'real_price' for each group ('commodity' and 'market')\n",
    "#avg_real_prices_grouped = jan_feb_mar_2020_real_prices.groupby(['admin1', 'admin2','market', 'commodity' ],as_index=False)['real_price'].mean().reset_index()\n",
    "\n",
    "avg_real_prices_grouped = jan_feb_mar_2020_real_prices.groupby(['admin1', 'admin2', 'market', 'commodity'], as_index=False).agg({'real_price': 'mean'})\n",
    "# Renaming the 'real_price' column to 'nominal_pricereference'\n",
    "avg_real_prices_grouped.rename(columns={'real_price': 'real_price_reference'}, inplace=True)\n",
    "\n",
    " \n",
    "# Merge this 'real_reference_price' from 2020 Jan  back into the main dataframe\n",
    "percentage_change_CPI_real_index_df = pd.merge(percentage_change_CPI_real_df, avg_real_prices_grouped, on=['admin1', 'admin2','commodity', 'market'], how='left',suffixes=('', '_to_drop'))\n",
    "percentage_change_CPI_real_index_df = percentage_change_CPI_real_index_df.drop(columns =[col for col in percentage_change_CPI_real_df.columns if col.endswith('_to_drop')])\n",
    "\n",
    "insert_Dataframe_To_DB(percentage_change_CPI_real_index_df, 'WFP_PRICE_DATA_PROCESSED_REAL_REFERENCE1')\n",
    "\n",
    "''' CHECK THE EARLIST REAL VALUES AND ADD THEM TO THE MAIN DF IF THE MAIN DF DOESN'T HAVE THE REAL REFERENCE PRICES '''\n",
    "\n",
    "percentage_change_CPI_real_index_early_df = pd.DataFrame()\n",
    "# Merge the dataframes\n",
    "percentage_change_CPI_real_index_early_df = pd.merge(\n",
    "    percentage_change_CPI_real_index_df, \n",
    "    earliest_real_values[['admin1', 'admin2', 'commodity', 'market', 'real_price_reference']],  \n",
    "    on=['admin1', 'admin2', 'commodity', 'market'], how='left', suffixes=('', '_to_drop'))\n",
    "\n",
    "\n",
    "\n",
    "# Check if 'real_price_reference' is null in percentage_change_CPI_real_nominal_index_df\n",
    "mask = percentage_change_CPI_real_index_early_df['real_price_reference'].isnull()\n",
    "\n",
    "# Fill missing values in percentage_change_CPI_real_nominal_index_df['real_price_reference'] from avg_real_prices_grouped['real_price_reference']\n",
    "percentage_change_CPI_real_index_early_df.loc[mask, 'real_price_reference'] = percentage_change_CPI_real_index_early_df.loc[mask, 'real_price_reference_to_drop']\n",
    "\n",
    "\n",
    "percentage_change_CPI_real_index_early_df = percentage_change_CPI_real_index_early_df.drop(columns =[col for col in percentage_change_CPI_real_index_df.columns if col.endswith('_to_drop')])\n",
    "\n",
    "\n",
    "insert_Dataframe_To_DB(percentage_change_CPI_real_index_early_df, 'WFP_PRICE_DATA_PROCESSED_REAL_REFERENCE2')\n",
    "\n",
    "\n",
    "\n",
    "'''\n",
    "# Calculate the index based on the real_price_reference for each group, only if nominal_price_reference is not NaN\n",
    "df_real_price_reference['real_price_index'] = np.where(\n",
    "    df_real_price_reference['real_price_reference'].notna(),\n",
    "    (df_real_price_reference['real_price'] / df_real_price_reference['real_price_reference']) * 100,\n",
    "    np.nan\n",
    ")\n",
    "'''\n",
    "\n",
    "\n"
   ]
  },
  {
   "cell_type": "code",
   "execution_count": 44,
   "metadata": {
    "id": "WvX-ri5gwjBR",
    "tags": []
   },
   "outputs": [
    {
     "ename": "NameError",
     "evalue": "name 'merged_df' is not defined",
     "output_type": "error",
     "traceback": [
      "\u001b[0;31m---------------------------------------------------------------------------\u001b[0m",
      "\u001b[0;31mNameError\u001b[0m                                 Traceback (most recent call last)",
      "Cell \u001b[0;32mIn[44], line 5\u001b[0m\n\u001b[1;32m      1\u001b[0m \u001b[38;5;66;03m# Group by 'commodity' and 'market', then get the 'real_price' for January 2020 --> there are missing values\u001b[39;00m\n\u001b[1;32m      2\u001b[0m \u001b[38;5;66;03m# so, it would be good to get the average between Jan, Feb, and March\u001b[39;00m\n\u001b[1;32m      3\u001b[0m \n\u001b[1;32m      4\u001b[0m \u001b[38;5;66;03m# Group by 'commodity' and 'market', then get the average 'real_price' for January, February, and March of 2020\u001b[39;00m\n\u001b[0;32m----> 5\u001b[0m jan_feb_mar_2020_prices \u001b[38;5;241m=\u001b[39m \u001b[43mmerged_df\u001b[49m[(merged_df[\u001b[38;5;124m'\u001b[39m\u001b[38;5;124myear\u001b[39m\u001b[38;5;124m'\u001b[39m] \u001b[38;5;241m==\u001b[39m \u001b[38;5;241m2020\u001b[39m) \u001b[38;5;241m&\u001b[39m (merged_df[\u001b[38;5;124m'\u001b[39m\u001b[38;5;124mmonth\u001b[39m\u001b[38;5;124m'\u001b[39m]\u001b[38;5;241m.\u001b[39misin([\u001b[38;5;241m1\u001b[39m, \u001b[38;5;241m2\u001b[39m, \u001b[38;5;241m3\u001b[39m]))]\n\u001b[1;32m      6\u001b[0m \u001b[38;5;28mprint\u001b[39m(jan_feb_mar_2020_prices\u001b[38;5;241m.\u001b[39mhead())\n\u001b[1;32m      8\u001b[0m jan_feb_mar_2020_prices\u001b[38;5;241m.\u001b[39mto_csv(\u001b[38;5;124m\"\u001b[39m\u001b[38;5;124mjan_feb_mar_2020_prices.csv\u001b[39m\u001b[38;5;124m\"\u001b[39m)\n",
      "\u001b[0;31mNameError\u001b[0m: name 'merged_df' is not defined"
     ]
    }
   ],
   "source": [
    "\n",
    "# Group by 'commodity' and 'market', then get the 'real_price' for January 2020 --> there are missing values\n",
    "# so, it would be good to get the average between Jan, Feb, and March\n",
    "\n",
    "# Group by 'commodity' and 'market', then get the average 'real_price' for January, February, and March of 2020\n",
    "jan_feb_mar_2020_prices = merged_df[(merged_df['year'] == 2020) & (merged_df['month'].isin([1, 2, 3]))]\n",
    "print(jan_feb_mar_2020_prices.head())\n",
    "\n",
    "jan_feb_mar_2020_prices.to_csv(\"jan_feb_mar_2020_prices.csv\")\n",
    "files.download(\"jan_feb_mar_2020_prices.csv\")\n",
    "\n",
    "\n",
    "# Calculate the average 'real_price' for each group ('commodity' and 'market')\n",
    "avg_prices_grouped = jan_feb_mar_2020_prices.groupby(['admin1', 'admin2','market', 'commodity' ])['price'].mean().reset_index()\n",
    "# Renaming the 'price' column to 'nominal_pricereference'\n",
    "avg_prices_grouped.rename(columns={'price': 'nominal_price_reference'}, inplace=True)\n",
    "avg_prices_grouped.to_csv(\"avg_prices_grouped.csv\")\n",
    "files.download(\"avg_prices_grouped.csv\")\n"
   ]
  },
  {
   "cell_type": "code",
   "execution_count": null,
   "metadata": {
    "id": "5EVq1H4wibBf"
   },
   "outputs": [],
   "source": [
    "\n",
    "# Merge this 'base_price' back into the main dataframe\n",
    "df_nominal_price_reference = pd.merge(merged_df, avg_prices_grouped, on=['admin1', 'admin2','commodity', 'market'], how='left')\n",
    "# Rename the price column\n",
    "\n",
    "df_nominal_price_reference.to_csv(\"df_nominal_price_reference.csv\")\n",
    "files.download(\"df_nominal_price_reference.csv\")\n",
    "\n",
    "print(df_nominal_price_reference.head)\n",
    "\n",
    "\n",
    "# Calculate the index based on the nominal_price_reference for each group, only if nominal_price_reference is not NaN\n",
    "df_nominal_price_reference['nominal_price_index'] = np.where(\n",
    "    df_nominal_price_reference['nominal_price_reference'].notna(),\n",
    "    (df_nominal_price_reference['price'] / df_nominal_price_reference['nominal_price_reference']) * 100,\n",
    "    np.nan\n",
    ")\n",
    "\n",
    "df_nominal_price_reference.to_csv(\"df_nominal_price_index.csv\")\n",
    "files.download(\"df_nominal_price_index.csv\")\n"
   ]
  },
  {
   "cell_type": "code",
   "execution_count": null,
   "metadata": {
    "colab": {
     "base_uri": "https://localhost:8080/",
     "height": 214
    },
    "id": "K1LKB2LzbYzb",
    "outputId": "2bee5bdd-4698-44d1-a38c-ed4350c26aad",
    "tags": []
   },
   "outputs": [],
   "source": [
    "df_final_output = pd.merge(df_nominal_price_reference, df_real_price_reference, on= ['admin1', 'admin2','commodity', 'market', 'date'], how ='left' )\n",
    "print(df_final_output.columns)\n",
    "\n",
    "df_final_output.drop(['latitude_y', 'longitude_y', 'category_y',\n",
    "       'unit_y', 'priceflag_y', 'pricetype_y', 'currency_y', 'price_y',\n",
    "       'usdprice_y', 'year_y', 'month_y', 'annual_avg_price_y',\n",
    "       'percentage_change_y', 'CPI_y', 'CPI_year_y', 'CPI_month_y',\n",
    "       'real_price_y', ], axis=1, inplace=True)\n",
    "\n",
    "# rename\n",
    "df_final_output.rename(columns={'latitude_x': 'latitude', 'longitude_x': 'longitude','category_x': 'category','unit_x': 'unit',\n",
    "                                'priceflag_x': 'priceflag', 'pricetype_x': 'pricetype','currency_x': 'currency','price_x': 'price',\n",
    "                                'usdprice_x': 'usdprice', 'year_x': 'year','month_x': 'month','annual_avg_price_x': 'annual_avg_price',\n",
    "                                'percentage_change_x': 'percentage_change', 'CPI_x': 'CPI','real_price_x': 'real_price'\n",
    "                                }, inplace=True)\n",
    "\n",
    "df_final_output.to_csv(\"df_final_output.csv\")\n",
    "files.download(\"df_final_output.csv\")"
   ]
  }
 ],
 "metadata": {
  "availableInstances": [
   {
    "_defaultOrder": 0,
    "_isFastLaunch": true,
    "category": "General purpose",
    "gpuNum": 0,
    "hideHardwareSpecs": false,
    "memoryGiB": 4,
    "name": "ml.t3.medium",
    "vcpuNum": 2
   },
   {
    "_defaultOrder": 1,
    "_isFastLaunch": false,
    "category": "General purpose",
    "gpuNum": 0,
    "hideHardwareSpecs": false,
    "memoryGiB": 8,
    "name": "ml.t3.large",
    "vcpuNum": 2
   },
   {
    "_defaultOrder": 2,
    "_isFastLaunch": false,
    "category": "General purpose",
    "gpuNum": 0,
    "hideHardwareSpecs": false,
    "memoryGiB": 16,
    "name": "ml.t3.xlarge",
    "vcpuNum": 4
   },
   {
    "_defaultOrder": 3,
    "_isFastLaunch": false,
    "category": "General purpose",
    "gpuNum": 0,
    "hideHardwareSpecs": false,
    "memoryGiB": 32,
    "name": "ml.t3.2xlarge",
    "vcpuNum": 8
   },
   {
    "_defaultOrder": 4,
    "_isFastLaunch": true,
    "category": "General purpose",
    "gpuNum": 0,
    "hideHardwareSpecs": false,
    "memoryGiB": 8,
    "name": "ml.m5.large",
    "vcpuNum": 2
   },
   {
    "_defaultOrder": 5,
    "_isFastLaunch": false,
    "category": "General purpose",
    "gpuNum": 0,
    "hideHardwareSpecs": false,
    "memoryGiB": 16,
    "name": "ml.m5.xlarge",
    "vcpuNum": 4
   },
   {
    "_defaultOrder": 6,
    "_isFastLaunch": false,
    "category": "General purpose",
    "gpuNum": 0,
    "hideHardwareSpecs": false,
    "memoryGiB": 32,
    "name": "ml.m5.2xlarge",
    "vcpuNum": 8
   },
   {
    "_defaultOrder": 7,
    "_isFastLaunch": false,
    "category": "General purpose",
    "gpuNum": 0,
    "hideHardwareSpecs": false,
    "memoryGiB": 64,
    "name": "ml.m5.4xlarge",
    "vcpuNum": 16
   },
   {
    "_defaultOrder": 8,
    "_isFastLaunch": false,
    "category": "General purpose",
    "gpuNum": 0,
    "hideHardwareSpecs": false,
    "memoryGiB": 128,
    "name": "ml.m5.8xlarge",
    "vcpuNum": 32
   },
   {
    "_defaultOrder": 9,
    "_isFastLaunch": false,
    "category": "General purpose",
    "gpuNum": 0,
    "hideHardwareSpecs": false,
    "memoryGiB": 192,
    "name": "ml.m5.12xlarge",
    "vcpuNum": 48
   },
   {
    "_defaultOrder": 10,
    "_isFastLaunch": false,
    "category": "General purpose",
    "gpuNum": 0,
    "hideHardwareSpecs": false,
    "memoryGiB": 256,
    "name": "ml.m5.16xlarge",
    "vcpuNum": 64
   },
   {
    "_defaultOrder": 11,
    "_isFastLaunch": false,
    "category": "General purpose",
    "gpuNum": 0,
    "hideHardwareSpecs": false,
    "memoryGiB": 384,
    "name": "ml.m5.24xlarge",
    "vcpuNum": 96
   },
   {
    "_defaultOrder": 12,
    "_isFastLaunch": false,
    "category": "General purpose",
    "gpuNum": 0,
    "hideHardwareSpecs": false,
    "memoryGiB": 8,
    "name": "ml.m5d.large",
    "vcpuNum": 2
   },
   {
    "_defaultOrder": 13,
    "_isFastLaunch": false,
    "category": "General purpose",
    "gpuNum": 0,
    "hideHardwareSpecs": false,
    "memoryGiB": 16,
    "name": "ml.m5d.xlarge",
    "vcpuNum": 4
   },
   {
    "_defaultOrder": 14,
    "_isFastLaunch": false,
    "category": "General purpose",
    "gpuNum": 0,
    "hideHardwareSpecs": false,
    "memoryGiB": 32,
    "name": "ml.m5d.2xlarge",
    "vcpuNum": 8
   },
   {
    "_defaultOrder": 15,
    "_isFastLaunch": false,
    "category": "General purpose",
    "gpuNum": 0,
    "hideHardwareSpecs": false,
    "memoryGiB": 64,
    "name": "ml.m5d.4xlarge",
    "vcpuNum": 16
   },
   {
    "_defaultOrder": 16,
    "_isFastLaunch": false,
    "category": "General purpose",
    "gpuNum": 0,
    "hideHardwareSpecs": false,
    "memoryGiB": 128,
    "name": "ml.m5d.8xlarge",
    "vcpuNum": 32
   },
   {
    "_defaultOrder": 17,
    "_isFastLaunch": false,
    "category": "General purpose",
    "gpuNum": 0,
    "hideHardwareSpecs": false,
    "memoryGiB": 192,
    "name": "ml.m5d.12xlarge",
    "vcpuNum": 48
   },
   {
    "_defaultOrder": 18,
    "_isFastLaunch": false,
    "category": "General purpose",
    "gpuNum": 0,
    "hideHardwareSpecs": false,
    "memoryGiB": 256,
    "name": "ml.m5d.16xlarge",
    "vcpuNum": 64
   },
   {
    "_defaultOrder": 19,
    "_isFastLaunch": false,
    "category": "General purpose",
    "gpuNum": 0,
    "hideHardwareSpecs": false,
    "memoryGiB": 384,
    "name": "ml.m5d.24xlarge",
    "vcpuNum": 96
   },
   {
    "_defaultOrder": 20,
    "_isFastLaunch": false,
    "category": "General purpose",
    "gpuNum": 0,
    "hideHardwareSpecs": true,
    "memoryGiB": 0,
    "name": "ml.geospatial.interactive",
    "supportedImageNames": [
     "sagemaker-geospatial-v1-0"
    ],
    "vcpuNum": 0
   },
   {
    "_defaultOrder": 21,
    "_isFastLaunch": true,
    "category": "Compute optimized",
    "gpuNum": 0,
    "hideHardwareSpecs": false,
    "memoryGiB": 4,
    "name": "ml.c5.large",
    "vcpuNum": 2
   },
   {
    "_defaultOrder": 22,
    "_isFastLaunch": false,
    "category": "Compute optimized",
    "gpuNum": 0,
    "hideHardwareSpecs": false,
    "memoryGiB": 8,
    "name": "ml.c5.xlarge",
    "vcpuNum": 4
   },
   {
    "_defaultOrder": 23,
    "_isFastLaunch": false,
    "category": "Compute optimized",
    "gpuNum": 0,
    "hideHardwareSpecs": false,
    "memoryGiB": 16,
    "name": "ml.c5.2xlarge",
    "vcpuNum": 8
   },
   {
    "_defaultOrder": 24,
    "_isFastLaunch": false,
    "category": "Compute optimized",
    "gpuNum": 0,
    "hideHardwareSpecs": false,
    "memoryGiB": 32,
    "name": "ml.c5.4xlarge",
    "vcpuNum": 16
   },
   {
    "_defaultOrder": 25,
    "_isFastLaunch": false,
    "category": "Compute optimized",
    "gpuNum": 0,
    "hideHardwareSpecs": false,
    "memoryGiB": 72,
    "name": "ml.c5.9xlarge",
    "vcpuNum": 36
   },
   {
    "_defaultOrder": 26,
    "_isFastLaunch": false,
    "category": "Compute optimized",
    "gpuNum": 0,
    "hideHardwareSpecs": false,
    "memoryGiB": 96,
    "name": "ml.c5.12xlarge",
    "vcpuNum": 48
   },
   {
    "_defaultOrder": 27,
    "_isFastLaunch": false,
    "category": "Compute optimized",
    "gpuNum": 0,
    "hideHardwareSpecs": false,
    "memoryGiB": 144,
    "name": "ml.c5.18xlarge",
    "vcpuNum": 72
   },
   {
    "_defaultOrder": 28,
    "_isFastLaunch": false,
    "category": "Compute optimized",
    "gpuNum": 0,
    "hideHardwareSpecs": false,
    "memoryGiB": 192,
    "name": "ml.c5.24xlarge",
    "vcpuNum": 96
   },
   {
    "_defaultOrder": 29,
    "_isFastLaunch": true,
    "category": "Accelerated computing",
    "gpuNum": 1,
    "hideHardwareSpecs": false,
    "memoryGiB": 16,
    "name": "ml.g4dn.xlarge",
    "vcpuNum": 4
   },
   {
    "_defaultOrder": 30,
    "_isFastLaunch": false,
    "category": "Accelerated computing",
    "gpuNum": 1,
    "hideHardwareSpecs": false,
    "memoryGiB": 32,
    "name": "ml.g4dn.2xlarge",
    "vcpuNum": 8
   },
   {
    "_defaultOrder": 31,
    "_isFastLaunch": false,
    "category": "Accelerated computing",
    "gpuNum": 1,
    "hideHardwareSpecs": false,
    "memoryGiB": 64,
    "name": "ml.g4dn.4xlarge",
    "vcpuNum": 16
   },
   {
    "_defaultOrder": 32,
    "_isFastLaunch": false,
    "category": "Accelerated computing",
    "gpuNum": 1,
    "hideHardwareSpecs": false,
    "memoryGiB": 128,
    "name": "ml.g4dn.8xlarge",
    "vcpuNum": 32
   },
   {
    "_defaultOrder": 33,
    "_isFastLaunch": false,
    "category": "Accelerated computing",
    "gpuNum": 4,
    "hideHardwareSpecs": false,
    "memoryGiB": 192,
    "name": "ml.g4dn.12xlarge",
    "vcpuNum": 48
   },
   {
    "_defaultOrder": 34,
    "_isFastLaunch": false,
    "category": "Accelerated computing",
    "gpuNum": 1,
    "hideHardwareSpecs": false,
    "memoryGiB": 256,
    "name": "ml.g4dn.16xlarge",
    "vcpuNum": 64
   },
   {
    "_defaultOrder": 35,
    "_isFastLaunch": false,
    "category": "Accelerated computing",
    "gpuNum": 1,
    "hideHardwareSpecs": false,
    "memoryGiB": 61,
    "name": "ml.p3.2xlarge",
    "vcpuNum": 8
   },
   {
    "_defaultOrder": 36,
    "_isFastLaunch": false,
    "category": "Accelerated computing",
    "gpuNum": 4,
    "hideHardwareSpecs": false,
    "memoryGiB": 244,
    "name": "ml.p3.8xlarge",
    "vcpuNum": 32
   },
   {
    "_defaultOrder": 37,
    "_isFastLaunch": false,
    "category": "Accelerated computing",
    "gpuNum": 8,
    "hideHardwareSpecs": false,
    "memoryGiB": 488,
    "name": "ml.p3.16xlarge",
    "vcpuNum": 64
   },
   {
    "_defaultOrder": 38,
    "_isFastLaunch": false,
    "category": "Accelerated computing",
    "gpuNum": 8,
    "hideHardwareSpecs": false,
    "memoryGiB": 768,
    "name": "ml.p3dn.24xlarge",
    "vcpuNum": 96
   },
   {
    "_defaultOrder": 39,
    "_isFastLaunch": false,
    "category": "Memory Optimized",
    "gpuNum": 0,
    "hideHardwareSpecs": false,
    "memoryGiB": 16,
    "name": "ml.r5.large",
    "vcpuNum": 2
   },
   {
    "_defaultOrder": 40,
    "_isFastLaunch": false,
    "category": "Memory Optimized",
    "gpuNum": 0,
    "hideHardwareSpecs": false,
    "memoryGiB": 32,
    "name": "ml.r5.xlarge",
    "vcpuNum": 4
   },
   {
    "_defaultOrder": 41,
    "_isFastLaunch": false,
    "category": "Memory Optimized",
    "gpuNum": 0,
    "hideHardwareSpecs": false,
    "memoryGiB": 64,
    "name": "ml.r5.2xlarge",
    "vcpuNum": 8
   },
   {
    "_defaultOrder": 42,
    "_isFastLaunch": false,
    "category": "Memory Optimized",
    "gpuNum": 0,
    "hideHardwareSpecs": false,
    "memoryGiB": 128,
    "name": "ml.r5.4xlarge",
    "vcpuNum": 16
   },
   {
    "_defaultOrder": 43,
    "_isFastLaunch": false,
    "category": "Memory Optimized",
    "gpuNum": 0,
    "hideHardwareSpecs": false,
    "memoryGiB": 256,
    "name": "ml.r5.8xlarge",
    "vcpuNum": 32
   },
   {
    "_defaultOrder": 44,
    "_isFastLaunch": false,
    "category": "Memory Optimized",
    "gpuNum": 0,
    "hideHardwareSpecs": false,
    "memoryGiB": 384,
    "name": "ml.r5.12xlarge",
    "vcpuNum": 48
   },
   {
    "_defaultOrder": 45,
    "_isFastLaunch": false,
    "category": "Memory Optimized",
    "gpuNum": 0,
    "hideHardwareSpecs": false,
    "memoryGiB": 512,
    "name": "ml.r5.16xlarge",
    "vcpuNum": 64
   },
   {
    "_defaultOrder": 46,
    "_isFastLaunch": false,
    "category": "Memory Optimized",
    "gpuNum": 0,
    "hideHardwareSpecs": false,
    "memoryGiB": 768,
    "name": "ml.r5.24xlarge",
    "vcpuNum": 96
   },
   {
    "_defaultOrder": 47,
    "_isFastLaunch": false,
    "category": "Accelerated computing",
    "gpuNum": 1,
    "hideHardwareSpecs": false,
    "memoryGiB": 16,
    "name": "ml.g5.xlarge",
    "vcpuNum": 4
   },
   {
    "_defaultOrder": 48,
    "_isFastLaunch": false,
    "category": "Accelerated computing",
    "gpuNum": 1,
    "hideHardwareSpecs": false,
    "memoryGiB": 32,
    "name": "ml.g5.2xlarge",
    "vcpuNum": 8
   },
   {
    "_defaultOrder": 49,
    "_isFastLaunch": false,
    "category": "Accelerated computing",
    "gpuNum": 1,
    "hideHardwareSpecs": false,
    "memoryGiB": 64,
    "name": "ml.g5.4xlarge",
    "vcpuNum": 16
   },
   {
    "_defaultOrder": 50,
    "_isFastLaunch": false,
    "category": "Accelerated computing",
    "gpuNum": 1,
    "hideHardwareSpecs": false,
    "memoryGiB": 128,
    "name": "ml.g5.8xlarge",
    "vcpuNum": 32
   },
   {
    "_defaultOrder": 51,
    "_isFastLaunch": false,
    "category": "Accelerated computing",
    "gpuNum": 1,
    "hideHardwareSpecs": false,
    "memoryGiB": 256,
    "name": "ml.g5.16xlarge",
    "vcpuNum": 64
   },
   {
    "_defaultOrder": 52,
    "_isFastLaunch": false,
    "category": "Accelerated computing",
    "gpuNum": 4,
    "hideHardwareSpecs": false,
    "memoryGiB": 192,
    "name": "ml.g5.12xlarge",
    "vcpuNum": 48
   },
   {
    "_defaultOrder": 53,
    "_isFastLaunch": false,
    "category": "Accelerated computing",
    "gpuNum": 4,
    "hideHardwareSpecs": false,
    "memoryGiB": 384,
    "name": "ml.g5.24xlarge",
    "vcpuNum": 96
   },
   {
    "_defaultOrder": 54,
    "_isFastLaunch": false,
    "category": "Accelerated computing",
    "gpuNum": 8,
    "hideHardwareSpecs": false,
    "memoryGiB": 768,
    "name": "ml.g5.48xlarge",
    "vcpuNum": 192
   },
   {
    "_defaultOrder": 55,
    "_isFastLaunch": false,
    "category": "Accelerated computing",
    "gpuNum": 8,
    "hideHardwareSpecs": false,
    "memoryGiB": 1152,
    "name": "ml.p4d.24xlarge",
    "vcpuNum": 96
   },
   {
    "_defaultOrder": 56,
    "_isFastLaunch": false,
    "category": "Accelerated computing",
    "gpuNum": 8,
    "hideHardwareSpecs": false,
    "memoryGiB": 1152,
    "name": "ml.p4de.24xlarge",
    "vcpuNum": 96
   },
   {
    "_defaultOrder": 57,
    "_isFastLaunch": false,
    "category": "Accelerated computing",
    "gpuNum": 0,
    "hideHardwareSpecs": false,
    "memoryGiB": 32,
    "name": "ml.trn1.2xlarge",
    "vcpuNum": 8
   },
   {
    "_defaultOrder": 58,
    "_isFastLaunch": false,
    "category": "Accelerated computing",
    "gpuNum": 0,
    "hideHardwareSpecs": false,
    "memoryGiB": 512,
    "name": "ml.trn1.32xlarge",
    "vcpuNum": 128
   },
   {
    "_defaultOrder": 59,
    "_isFastLaunch": false,
    "category": "Accelerated computing",
    "gpuNum": 0,
    "hideHardwareSpecs": false,
    "memoryGiB": 512,
    "name": "ml.trn1n.32xlarge",
    "vcpuNum": 128
   }
  ],
  "colab": {
   "provenance": []
  },
  "instance_type": "ml.t3.medium",
  "kernelspec": {
   "display_name": "Python 3 (Data Science 3.0)",
   "language": "python",
   "name": "python3__SAGEMAKER_INTERNAL__arn:aws:sagemaker:us-east-1:081325390199:image/sagemaker-data-science-310-v1"
  },
  "language_info": {
   "codemirror_mode": {
    "name": "ipython",
    "version": 3
   },
   "file_extension": ".py",
   "mimetype": "text/x-python",
   "name": "python",
   "nbconvert_exporter": "python",
   "pygments_lexer": "ipython3",
   "version": "3.10.6"
  }
 },
 "nbformat": 4,
 "nbformat_minor": 4
}
